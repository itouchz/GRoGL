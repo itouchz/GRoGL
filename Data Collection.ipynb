{
 "cells": [
  {
   "cell_type": "code",
   "execution_count": 1,
   "id": "963ed5e3-7edb-4a42-8f49-0e5e9b6dedc2",
   "metadata": {},
   "outputs": [],
   "source": [
    "import os\n",
    "import time\n",
    "\n",
    "import pandas as pd\n",
    "import numpy as np\n",
    "import datetime as dt\n",
    "\n",
    "from tqdm.notebook import tqdm"
   ]
  },
  {
   "cell_type": "markdown",
   "id": "743f491d-7c13-41b7-b6ab-72c6ff3bcbae",
   "metadata": {
    "tags": []
   },
   "source": [
    "### Daily Prices of Cryptocurrencies, Stocks, Commodities, and World Indices\n",
    "https://github.com/ranaroussi/yfinance <br/>\n",
    "https://github.com/JECSand/yahoofinancials <br/>\n",
    "\n",
    "_daily_ values of **Top-100 Coins (as of Nov 1st), Stocks, Commodities, World Idices (e.g., gold, silver, and oil) for OCLHV prices** <br/>\n",
    "_extracted_ changes and returns"
   ]
  },
  {
   "cell_type": "code",
   "execution_count": 2,
   "id": "26682498-cff3-43e6-ab07-d4539ea6d46b",
   "metadata": {},
   "outputs": [],
   "source": [
    "import yfinance as yf\n",
    "import requests as requests\n",
    "import bs4 as bs\n",
    "\n",
    "from yahoofinancials import YahooFinancials"
   ]
  },
  {
   "cell_type": "code",
   "execution_count": 3,
   "id": "8057e29f-ed4f-4bf8-a57e-9c0cee410bf4",
   "metadata": {},
   "outputs": [],
   "source": [
    "# interval: 1m,5m,15m,30m,60m,1h,1d,1wk,1mo,\n",
    "# *Close price adjusted for splits. **Adjusted close price adjusted for splits and dividend and/or capital gain distributions."
   ]
  },
  {
   "cell_type": "code",
   "execution_count": 4,
   "id": "cee83838-c8e6-4bda-b7de-2767ae26091f",
   "metadata": {},
   "outputs": [],
   "source": [
    "with open(\"top_symbols.npy\", \"rb\") as f:\n",
    "    top_coins = np.load(f)\n",
    "\n",
    "# Crude Oil, Gold, Silver\n",
    "commodities = ['CL=F', 'GC=F', 'SI=F']\n",
    "\n",
    "# Microsoft, Apple, NVIDIA, and etc.\n",
    "tech_stocks = list(set(['MSFT', 'AAPL', 'NVDA', 'GOOGL', 'FB', 'NFLX', 'AMZN', 'TSLA', 'BABA', 'TSM', 'ASML', 'ADBE', 'CRM', 'ORCL', 'CSCO', 'ACN', 'AVGO', 'SHOP', 'INTC', 'QCOM', 'AMD', 'INTU', 'TXN', 'SAP', 'SONY', 'AMAT', 'NOW', 'SNOW', 'TEAM', 'IBM', 'SQ']))\n",
    "\n",
    "# S&P 500, Dow 30, nasdaq, NYSE COMPOSITE (DJ), and etc.\n",
    "world_indices = ['^GSPC', '^DJI', '^IXIC', '^NYA', '^XAX', '^BUK100P', '^RUT', '^VIX', '^FTSE', '^GDAXI', '^FCHI', '^STOXX50E', '^N100', '^BFX', 'IMOEX.ME', '^N225', '^HSI', '000001.SS', '399001.SZ', '^STI', '^AXJO', '^AORD', '^BSESN', '^JKSE', '^KLSE', '^NZ50', '^KS11', '^TWII', '^GSPTSE', '^BVSP', '^MXX', '^IPSA', '^MERV', '^TA125.TA', '^JN0U.JO']\n",
    "\n",
    "# S&P 500 Each\n",
    "resp = requests.get('http://en.wikipedia.org/wiki/List_of_S%26P_500_companies')\n",
    "soup = bs.BeautifulSoup(resp.text, 'lxml')\n",
    "table = soup.find('table', {'class': 'wikitable sortable'})\n",
    "\n",
    "sp500 = []\n",
    "for row in table.findAll('tr')[1:]:\n",
    "    ticker = row.findAll('td')[0].text\n",
    "    sp500.append(ticker.strip().replace('.', '-'))"
   ]
  },
  {
   "cell_type": "code",
   "execution_count": 5,
   "id": "e3830a5b-ad68-4492-84f4-64b95cf8950c",
   "metadata": {},
   "outputs": [
    {
     "data": {
      "text/plain": [
       "array(['BTC-USD', 'ETH-USD', 'BNB-USD', 'USDT-USD', 'ADA-USD', 'SOL1-USD',\n",
       "       'XRP-USD', 'DOT1-USD', 'HEX-USD', 'SHIB-USD', 'DOGE-USD',\n",
       "       'USDC-USD', 'LUNA1-USD', 'UNI3-USD', 'AVAX-USD', 'LINK-USD',\n",
       "       'LTC-USD', 'MATIC-USD', 'ALGO-USD', 'BCH-USD', 'XLM-USD',\n",
       "       'VET-USD', 'AXS-USD', 'ATOM1-USD', 'ICP1-USD', 'FIL-USD',\n",
       "       'TRX-USD', 'FTT1-USD', 'THETA-USD', 'ETC-USD', 'FTM-USD',\n",
       "       'DAI1-USD', 'CRO-USD', 'HBAR-USD', 'EGLD-USD', 'XTZ-USD',\n",
       "       'MANA-USD', 'XMR-USD', 'GRT2-USD', 'EOS-USD', 'CAKE-USD',\n",
       "       'FLOW1-USD', 'AAVE-USD', 'RUNE-USD', 'MIOTA-USD', 'KSM-USD',\n",
       "       'MKR-USD', 'QNT-USD', 'ONE2-USD', 'NEO-USD', 'BSV-USD', 'SAND-USD',\n",
       "       'HNT1-USD', 'WAVES-USD', 'CHZ-USD', 'BTT1-USD', 'AR-USD',\n",
       "       'STX1-USD', 'AMP1-USD', 'ENJ-USD', 'COMP-USD', 'HOT1-USD',\n",
       "       'CELO-USD', 'ZEC-USD', 'DASH-USD', 'OMG-USD', 'TFUEL-USD',\n",
       "       'XEM-USD', 'CRV-USD', 'LRC-USD', 'QTUM-USD', 'SUSHI-USD',\n",
       "       'ICX-USD', 'DCR-USD', 'BAT-USD', 'CTC1-USD', 'SNX-USD', 'RVN-USD',\n",
       "       'ZIL-USD', 'YFI-USD', 'KDA-USD', 'TUSD-USD', 'XDC-USD', 'OMI-USD',\n",
       "       'BTG-USD', 'SRM-USD', 'ZRX-USD', 'BNT-USD', 'ANKR-USD', 'CEL-USD',\n",
       "       'SC-USD', 'CCXX-USD', 'ZEN-USD', 'IOST-USD', 'RAY-USD', 'ONT-USD',\n",
       "       'SKL-USD', 'WAXP-USD', 'DGB-USD', 'NANO-USD'], dtype='<U9')"
      ]
     },
     "execution_count": 5,
     "metadata": {},
     "output_type": "execute_result"
    }
   ],
   "source": [
    "top_coins"
   ]
  },
  {
   "cell_type": "code",
   "execution_count": 5,
   "id": "a785fedc-031f-424e-82f1-face03694fd9",
   "metadata": {},
   "outputs": [],
   "source": [
    "def save_csv(loc, symbols, yf_data, interval):\n",
    "    for symbol in symbols:\n",
    "        yf_data[symbol].to_csv(f'datasets/{interval}/{loc}/{symbol}.csv')"
   ]
  },
  {
   "cell_type": "code",
   "execution_count": null,
   "id": "82d80cf8-5dd0-499e-aee6-8b3aa671350a",
   "metadata": {},
   "outputs": [
    {
     "name": "stdout",
     "output_type": "stream",
     "text": [
      "[*********************100%***********************]  100 of 100 completed\n",
      "[*********************100%***********************]  31 of 31 completed\n",
      "[*********************100%***********************]  3 of 3 completed\n",
      "[*********************100%***********************]  35 of 35 completed\n",
      "[*********************100%***********************]  505 of 505 completed\n"
     ]
    }
   ],
   "source": [
    "# from 2018-01-01 to 2021-10-31 (daily)\n",
    "start_date, end_date = '2018-01-01', '2021-11-01' # UTC datetime\n",
    "\n",
    "yf_coins = yf.download(top_coins.tolist(), start=start_date, end=end_date, group_by='ticker', actions=True)\n",
    "yf_tech = yf.download(tech_stocks, start=start_date, end=end_date, group_by='ticker', actions=True)\n",
    "yf_commo = yf.download(commodities, start=start_date, end=end_date, group_by='ticker', actions=True)\n",
    "yf_indices = yf.download(world_indices, start=start_date, end=end_date, group_by='ticker', actions=True)\n",
    "yf_sp500 = yf.download(sp500, start=start_date, end=end_date, group_by='ticker', actions=True)"
   ]
  },
  {
   "cell_type": "code",
   "execution_count": 7,
   "id": "b5d6410a-d52e-4fbc-bc0c-c2f53762a18a",
   "metadata": {},
   "outputs": [
    {
     "name": "stdout",
     "output_type": "stream",
     "text": [
      "[*********************100%***********************]  100 of 100 completed\n",
      "[*********************100%***********************]  31 of 31 completed\n",
      "[*********************100%***********************]  3 of 3 completed\n",
      "[*********************100%***********************]  35 of 35 completed\n",
      "\n",
      "1 Failed download:\n",
      "- ^IPSA: No data found for this date range, symbol may be delisted\n",
      "[*********************100%***********************]  505 of 505 completed\n"
     ]
    }
   ],
   "source": [
    "# from 2018-01-01 to 2021-10-31 (monthly)\n",
    "start_date, end_date = '2017-12-01', '2021-11-01' # UTC datetime\n",
    "\n",
    "yfm_coins = yf.download(top_coins.tolist(), start=start_date, end=end_date, group_by='ticker', actions=True, interval='1mo')\n",
    "yfm_tech = yf.download(tech_stocks, start=start_date, end=end_date, group_by='ticker', actions=True, interval='1mo')\n",
    "yfm_commo = yf.download(commodities, start=start_date, end=end_date, group_by='ticker', actions=True, interval='1mo')\n",
    "yfm_indices = yf.download(world_indices, start=start_date, end=end_date, group_by='ticker', actions=True, interval='1mo')\n",
    "yfm_sp500 = yf.download(sp500, start=start_date, end=end_date, group_by='ticker', actions=True, interval='1mo')"
   ]
  },
  {
   "cell_type": "code",
   "execution_count": 8,
   "id": "a39ff056-8477-40c9-b62c-4c7c95b38ea0",
   "metadata": {},
   "outputs": [],
   "source": [
    "# coin_tickers = yf.Tickers(top_coins.tolist())\n",
    "# tech_tickers = yf.Tickers(tech_stocks)\n",
    "# commo_tickers = yf.Tickers(commodities)\n",
    "# indices_tickers = yf.Tickers(world_indices)"
   ]
  },
  {
   "cell_type": "code",
   "execution_count": 9,
   "id": "88a5dd84-a9a1-43fb-ac9b-b7af2ff6ef68",
   "metadata": {},
   "outputs": [],
   "source": [
    "save_csv('coins', top_coins, yf_coins, 'daily')\n",
    "save_csv('tech', tech_stocks, yf_tech, 'daily')\n",
    "save_csv('commo', commodities, yf_commo, 'daily')\n",
    "save_csv('indices', world_indices, yf_indices, 'daily')\n",
    "save_csv('S&P_500', sp500, yf_sp500, 'daily')\n",
    "\n",
    "save_csv('coins', top_coins, yfm_coins, 'monthly')\n",
    "save_csv('tech', tech_stocks, yfm_tech, 'monthly')\n",
    "save_csv('commo', commodities, yfm_commo, 'monthly')\n",
    "save_csv('indices', world_indices, yfm_indices, 'monthly')\n",
    "save_csv('S&P_500', sp500, yfm_sp500, 'monthly')"
   ]
  },
  {
   "cell_type": "code",
   "execution_count": 10,
   "id": "e076a464-50a4-4905-9251-4ac2f5b1cc9a",
   "metadata": {},
   "outputs": [],
   "source": [
    "ticker_info = {'symbol': [], 'name': [], 'description': [], 'type': [], 'sector': [], 'industry': []}\n",
    "symbols = top_coins.tolist() + commodities + tech_stocks + world_indices + sp500\n",
    "all_tickers = yf.Tickers(symbols)"
   ]
  },
  {
   "cell_type": "code",
   "execution_count": 11,
   "id": "0c5fae28-f243-45de-bf30-6fdcb8aa12d7",
   "metadata": {
    "scrolled": true,
    "tags": []
   },
   "outputs": [
    {
     "data": {
      "application/vnd.jupyter.widget-view+json": {
       "model_id": "59379e58a8b64d8a8d85844dd73388ee",
       "version_major": 2,
       "version_minor": 0
      },
      "text/plain": [
       "  0%|          | 0/652 [00:00<?, ?it/s]"
      ]
     },
     "metadata": {},
     "output_type": "display_data"
    }
   ],
   "source": [
    "for sym in tqdm(symbols):\n",
    "    info = all_tickers.tickers[sym].info\n",
    "    ticker_info['symbol'].append(sym)\n",
    "    ticker_info['name'].append(info['shortName'].replace(' USD', '').replace(' Dec 21', ''))\n",
    "    ticker_info['description'].append(info['description'] if 'description' in info.keys() else '')\n",
    "    ticker_info['type'].append(info['quoteType'])\n",
    "    ticker_info['sector'].append(info['sector'] if 'sector' in info.keys() else '')\n",
    "    ticker_info['industry'].append(info['industry'] if 'industry' in info.keys() else '')"
   ]
  },
  {
   "cell_type": "code",
   "execution_count": 12,
   "id": "e0ba4990-4e62-4555-a021-435a34feb534",
   "metadata": {},
   "outputs": [],
   "source": [
    "pd.DataFrame(ticker_info).to_csv('datasets/ticker_info.csv', index=False)"
   ]
  },
  {
   "cell_type": "code",
   "execution_count": 121,
   "id": "9ad49e76-f6f8-49dc-a8f8-f58d9f94542d",
   "metadata": {},
   "outputs": [],
   "source": [
    "# Price change OR returns % = (V2 - V1) / V1 * 100 \n",
    "# compute daily changes and % changes\n",
    "# Volatility is often measured as either the standard deviation or variance between returns from that same security or market index.\n",
    "\n",
    "def compute_change(qtype, symbol):\n",
    "    yf_data = pd.read_csv(f'datasets/daily/{qtype}/{symbol}.csv')\n",
    "    yfm_data = pd.read_csv(f'datasets/monthly/{qtype}/{symbol}.csv')\n",
    "    \n",
    "    for i in range(yf_data.shape[0]):\n",
    "        if i > 0:\n",
    "            yf_data.loc[i, 'change'] = yf_data.loc[i]['Close'] - yf_data.loc[i - 1]['Close']\n",
    "            yf_data.loc[i, 'percent_change'] = (yf_data.loc[i]['Close'] - yf_data.loc[i - 1]['Close']) / yf_data.loc[i - 1]['Close'] * 100\n",
    "            yf_data.loc[i, 'returns'] = (yf_data.loc[i]['Close'] / yf_data.loc[i - 1]['Close'] - 1) * 100\n",
    "            yf_data.loc[i, 'volatility'] = np.std(yf_data.loc[i - 1:i + 1]['Close'])\n",
    "    \n",
    "    yf_data['Month'] = yf_data['Date'].apply(lambda x: x[:7])\n",
    "    for i in range(yfm_data.shape[0]):\n",
    "        if i > 0:\n",
    "            yfm_data.loc[i, 'change'] = yfm_data.loc[i]['Close'] - yfm_data.loc[i - 1]['Close']\n",
    "            yfm_data.loc[i, 'percent_change'] = (yfm_data.loc[i]['Close'] - yfm_data.loc[i - 1]['Close']) / yfm_data.loc[i - 1]['Close'] * 100\n",
    "            yfm_data.loc[i, 'returns'] = (yfm_data.loc[i]['Close'] / yfm_data.loc[i - 1]['Close'] - 1) * 100\n",
    "            yfm_data.loc[i, 'volatility'] = np.std(yf_data[yf_data['Month'] == yfm_data.loc[i]['Date'][:7]]['Close'])"
   ]
  },
  {
   "cell_type": "code",
   "execution_count": null,
   "id": "72631a09-9312-4bff-8d1c-a8f62498bb5b",
   "metadata": {
    "tags": []
   },
   "outputs": [],
   "source": []
  },
  {
   "cell_type": "markdown",
   "id": "feea20a5-4abd-40f4-8986-312c5fe64274",
   "metadata": {
    "tags": []
   },
   "source": [
    "### Reddit Posts\n",
    "https://github.com/gabrielpreda/reddit_extract_content + https://pushshift.io/<br/>\n",
    "\n",
    "/r/cryptocurrency and /r/* for each coin name"
   ]
  },
  {
   "cell_type": "code",
   "execution_count": 131,
   "id": "e95290a6-a90c-4a1e-b292-42d0271fc03a",
   "metadata": {},
   "outputs": [],
   "source": [
    "import praw\n",
    "import snscrape.modules.reddit as snreddit"
   ]
  },
  {
   "cell_type": "code",
   "execution_count": 142,
   "id": "a157c302-244b-414e-bac5-39e1f3f51ef1",
   "metadata": {},
   "outputs": [
    {
     "data": {
      "application/vnd.jupyter.widget-view+json": {
       "model_id": "9a45a338af3f411e8fe3e110b6f6103d",
       "version_major": 2,
       "version_minor": 0
      },
      "text/plain": [
       "0it [00:00, ?it/s]"
      ]
     },
     "metadata": {},
     "output_type": "display_data"
    }
   ],
   "source": [
    "start_unix, end_unix = 1514764800, 1635724799\n",
    "\n",
    "results = []\n",
    "for post in tqdm(snreddit.RedditSearchScraper('cryptocurrency', comments = False, before=end_unix, after=start_unix).get_items()):\n",
    "    results.append({\n",
    "        'id': post.id,\n",
    "        'text': post.selftext,\n",
    "        'topic': post.subreddit,\n",
    "        'title': post.title,\n",
    "        'date': post.created.strftime('%Y-%m-%d')\n",
    "    })\n",
    "    break"
   ]
  },
  {
   "cell_type": "code",
   "execution_count": 133,
   "id": "1215f5bb-ddd4-4e6c-9b38-417faaf4475d",
   "metadata": {},
   "outputs": [],
   "source": [
    "pd.DataFrame(results).to_csv('datasets/reddit/cryptocurrency.csv', index=False)"
   ]
  },
  {
   "cell_type": "code",
   "execution_count": null,
   "id": "06a4527e-77a1-4f52-b500-81e3d77a936c",
   "metadata": {},
   "outputs": [],
   "source": [
    "start_unix, end_unix = 1514764800, 1635724799\n",
    "day_unix = 86400\n",
    "\n",
    "current = end_unix - day_unix\n",
    "results = []\n",
    "\n",
    "while current >= start_unix:\n",
    "    start = current\n",
    "    end = current + day_unix\n",
    "    \n",
    "    daily_results = []\n",
    "    for post in snreddit.RedditSubredditScraper('cryptocurrency', comments = False, before=end, after=start).get_items():\n",
    "        daily_results.append({\n",
    "            'id': post.id,\n",
    "            'text': post.selftext,\n",
    "            'topic': post.subreddit,\n",
    "            'title': post.title,\n",
    "            'date': post.created.strftime('%Y-%m-%d')\n",
    "        })\n",
    "\n",
    "        if len(daily_results) >= 100:\n",
    "            break\n",
    "\n",
    "    results = results + daily_results\n",
    "    pd.DataFrame(results).to_csv('datasets/reddit/cryptocurrency.csv', index=False)\n",
    "    print(f'saved reddit {len(results)} submissions')\n",
    "    current = current - day_unix"
   ]
  },
  {
   "cell_type": "code",
   "execution_count": 10,
   "id": "491aafa0-d5dd-4579-9a16-b43b90d56400",
   "metadata": {},
   "outputs": [],
   "source": [
    "\n",
    "\n",
    "reddit = praw.Reddit(client_id=personal_use_script, client_secret=client_secret, user_agent=user_agent, username=username, password=password)"
   ]
  },
  {
   "cell_type": "code",
   "execution_count": 11,
   "id": "c79991b6-983d-43a6-8438-5e8f709aeacc",
   "metadata": {},
   "outputs": [],
   "source": [
    "# MaticNetwork + 0xPolygon -> polygon\n",
    "# XRP + Ripple -> XRP\n",
    "\n",
    "# reddit topic (subreddit) by coinmarketcap.com\n",
    "topics = ['cryptocurrency', \n",
    "          'Bitcoin', 'ethereum', 'binance', 'Tether', 'cardano', 'Solana', 'XRP', 'Ripple', 'Polkadot', 'HEXcrypto', \n",
    "          'SHIBArmy', 'dogecoin', 'USDC', 'terraluna', 'UniSwap', 'Avax', 'Chainlink', 'Litecoin', 'MaticNetwork', '0xPolygon', \n",
    "          'AlgorandOfficial', 'BitcoinCash', 'stellar', 'vechain', 'AxieInfinity', 'cosmosnetwork', 'dfinity', 'Filecoin', 'Tronix', 'FTXToken', \n",
    "          'theta_network', 'EthereumClassic', 'FantomFoundation', 'DAItoken', 'Crypto_com', 'Hedera', 'elrondnetwork', 'Tezos', 'decentraland', 'Monero', \n",
    "          'thegraph', 'EOS', 'PancakeSwap', 'FlowBlockchain', 'Aave_Official', 'thorchain', 'Iota', 'Kusama', 'makerdao', 'QuantNetwork',\n",
    "          'harmony_one', 'NEO', 'bitcoinsv', 'TheSandboxGaming', 'HeliumNetwork', 'Wavesplatform', 'chiliZ', 'BittorrentToken', 'Arweave', 'stacks',\n",
    "          'AMPToken', 'EnjinCoin', 'Compound', 'holochain', 'celo', 'zec', 'dashpay', 'OMGnetwork', 'thetafuel', 'nem', \n",
    "          'CurveDAO', 'loopringorg', 'Qtum', 'SushiSwap', 'helloicon', 'decred', 'BATProject', 'Creditcoin', 'synthetix_io', 'Ravencoin',\n",
    "          'zilliqa', 'yearn_finance', 'kadena', 'TUSD', 'xinfin', 'ECOMI', 'BitcoinGoldHQ', 'ProjectSerum', '0xProject', 'Bancor',\n",
    "          'ANKR', 'CelsiusNetwork', 'Siacoin', 'Counosplatform', 'Horizen', 'IOStoken', 'Raydium', 'OntologyNetwork', 'SKALEnetwork', 'WAX_io',\n",
    "          'Digibyte', 'nanocurrency'\n",
    "         ]\n",
    "\n",
    "df_dict = { \n",
    "    'date': [],\n",
    "    'topic': [],\n",
    "    'title': [],\n",
    "    'selftext': [],\n",
    "    'score': [],\n",
    "    'upvote_ratio': [],\n",
    "    'num_comments': [],\n",
    "    'created_utc': []\n",
    "}"
   ]
  },
  {
   "cell_type": "code",
   "execution_count": 36,
   "id": "44104c88-dc70-4eeb-a1d8-22f6d9893f10",
   "metadata": {},
   "outputs": [],
   "source": [
    "\n",
    "\n",
    "# for topic in topics:\n",
    "#     df_dict['topic'].append(topic)\n",
    "#     subreddit = reddit.subreddit(topic)\n",
    "#     last_sub = {'name': None, 'created_utc': start_unix}\n",
    "    \n",
    "#     while last_sub['created_utc'] >= start_unix:\n",
    "#         for sub in subreddit.new(limit=1000, params={'after': last_sub['name']}):\n",
    "#             if sub.created_utc >= start_unix and sub.created_utc <= end_unix:\n",
    "#                 print(sub.title, sub.created_utc)\n",
    "#         last_sub['name'] = sub.name\n",
    "#         last_sub['created_utc'] = sub.created_utc\n",
    "#         print(sub.created_utc)\n",
    "#     break\n",
    "        \n",
    "\n",
    "#     it_start = start_unix\n",
    "#     it_end = start_unix + 86400\n",
    "#     while it_end <= end_unix:\n",
    "#         print(it_start, it_end)\n",
    "#         for sub in subreddit.new(limit=None):\n",
    "#             print(sub.created_utc)\n",
    "# #             if sub.created_utc >= start_unix and sub.created_utc <= end_unix:\n",
    "# #                 print(sub.created_utc)\n",
    "# #                 break\n",
    "#             break\n",
    "#         it_start = it_end\n",
    "#         it_end = it_end + 86400\n",
    "#     break\n",
    "    \n",
    "#     for submission in reddit.subreddit('redditdev').submissions(1475280000, 1480550400):\n",
    "#     print(submission.created_utc)"
   ]
  },
  {
   "cell_type": "code",
   "execution_count": 22,
   "id": "cf665d9f-7f7e-429c-a433-24b174fc8259",
   "metadata": {},
   "outputs": [
    {
     "data": {
      "text/plain": [
       "1636914047.0"
      ]
     },
     "execution_count": 22,
     "metadata": {},
     "output_type": "execute_result"
    }
   ],
   "source": [
    "test[5].created_utc"
   ]
  },
  {
   "cell_type": "code",
   "execution_count": 82,
   "id": "729227b1-042b-4ecc-b802-e303d7e44ec8",
   "metadata": {},
   "outputs": [
    {
     "data": {
      "text/plain": [
       "'timestamp:1514764800..1635724799'"
      ]
     },
     "execution_count": 82,
     "metadata": {},
     "output_type": "execute_result"
    }
   ],
   "source": [
    "f'timestamp:{start_unix}..{end_unix}'"
   ]
  },
  {
   "cell_type": "code",
   "execution_count": 16,
   "id": "c99df609-db70-4e33-9119-91f38d87d71d",
   "metadata": {},
   "outputs": [],
   "source": [
    "new_subreddit = subreddit.hot()"
   ]
  },
  {
   "cell_type": "code",
   "execution_count": 25,
   "id": "ec24830e-7f8d-4995-9557-c5de76cfe5c7",
   "metadata": {},
   "outputs": [
    {
     "data": {
      "application/vnd.jupyter.widget-view+json": {
       "model_id": "313964f4197b401ba665d7e43378a9cb",
       "version_major": 2,
       "version_minor": 0
      },
      "text/plain": [
       "0it [00:00, ?it/s]"
      ]
     },
     "metadata": {},
     "output_type": "display_data"
    },
    {
     "name": "stdout",
     "output_type": "stream",
     "text": [
      "<praw.models.comment_forest.CommentForest object at 0x7fbeb4091dc0>\n"
     ]
    }
   ],
   "source": [
    "for submission in tqdm(new_subreddit):\n",
    "    print(submission.comments)\n",
    "    break\n",
    "#     topics_dict[\"title\"].append(submission.title)\n",
    "#     topics_dict[\"score\"].append(submission.score)\n",
    "#     topics_dict[\"id\"].append(submission.id)\n",
    "#     topics_dict[\"url\"].append(submission.url)\n",
    "#     topics_dict[\"comms_num\"].append(submission.num_comments)\n",
    "#     topics_dict[\"created\"].append(submission.created)\n",
    "#     topics_dict[\"body\"].append(submission.selftext)"
   ]
  },
  {
   "cell_type": "code",
   "execution_count": null,
   "id": "582cf111-f556-4685-8911-4764d657ffd3",
   "metadata": {},
   "outputs": [],
   "source": []
  },
  {
   "cell_type": "markdown",
   "id": "4187d53f-d69b-4c6f-aa52-3eee07cf056a",
   "metadata": {
    "tags": []
   },
   "source": [
    "### Tweets\n",
    "https://github.com/itsayushisaxena/Get_Old_Tweets-Python <br/>\n",
    "https://www.kaggle.com/davidwallach/financial-tweets <br/>\n",
    "https://github.com/dwallach1/Stocker <br/>\n",
    "https://towardsdatascience.com/an-extensive-guide-to-collecting-tweets-from-twitter-api-v2-for-academic-research-using-python-3-518fcb71df2a"
   ]
  },
  {
   "cell_type": "code",
   "execution_count": 2,
   "id": "4b0ad221-a20c-428b-9432-3ab8a0263d02",
   "metadata": {},
   "outputs": [],
   "source": [
    "import re\n",
    "import tweepy\n",
    "import snscrape.modules.twitter as sntwitter"
   ]
  },
  {
   "cell_type": "code",
   "execution_count": 3,
   "id": "63f5e3c0-3151-4c4d-a33f-ed717335b582",
   "metadata": {},
   "outputs": [],
   "source": [
    "with open(\"top_symbols.npy\", \"rb\") as f:\n",
    "    top_coins = np.load(f)\n",
    "\n",
    "symbols = [re.sub(r'\\d', '', coin.split('-')[0]) for coin in top_coins]\n",
    "\n",
    "# tags = ['crypto', 'cryptocurrency', 'bitcoin']"
   ]
  },
  {
   "cell_type": "code",
   "execution_count": 6,
   "id": "8f38f08e-16f9-4ee2-b525-54832b3712d2",
   "metadata": {},
   "outputs": [
    {
     "data": {
      "text/plain": [
       "['ETH']"
      ]
     },
     "execution_count": 6,
     "metadata": {},
     "output_type": "execute_result"
    }
   ],
   "source": [
    "symbols[1:2]"
   ]
  },
  {
   "cell_type": "code",
   "execution_count": 5,
   "id": "73e08deb-933f-4be4-9063-068e6ffbd267",
   "metadata": {},
   "outputs": [],
   "source": [
    "# auth = tweepy.OAuthHandler(consumer_key, consumer_secret)\n",
    "# auth.set_access_token(access_token, access_token_secret)\n",
    "# api = tweepy.API(auth, wait_on_rate_limit=True)"
   ]
  },
  {
   "cell_type": "code",
   "execution_count": null,
   "id": "3e77f76c-6f5a-4e90-84fa-d5bfb4324fe7",
   "metadata": {},
   "outputs": [],
   "source": [
    "# sntwitter.TwitterHashtagScraper\n",
    "# sntwitter.TwitterSearchScraper"
   ]
  },
  {
   "cell_type": "code",
   "execution_count": 87,
   "id": "a059e366-1a08-4983-8b63-8d6d3a378ce2",
   "metadata": {},
   "outputs": [],
   "source": [
    "symbols = [re.sub(r'\\d', '', coin.split('-')[0]) for coin in top_coins]"
   ]
  },
  {
   "cell_type": "code",
   "execution_count": 93,
   "id": "d07f5cac-6133-4cf8-831c-805fcb53405d",
   "metadata": {},
   "outputs": [],
   "source": [
    "keywords = ['Cryptocurrency', 'Bitcoin', 'Ethereum', 'Binance Coin', 'Tether', 'Cardano', 'Solana', 'XRP', 'Ripple', 'Polkadot', \n",
    "           'HEX cryptocurrency', 'SHIBA INU coin', 'Dogecoin', 'USDCoin', 'Terra Luna', 'Uniswap', 'Avalanche coin', 'Chainlink', 'Litecoin', 'Matic Network', 'Polygon cryptocurrency', \n",
    "           'Algorand', 'Bitcoin Cash', 'Stellar', 'VeChain', \n",
    "           'Axie Infinity coin', 'cosmos coin', 'Dfinity', 'Internet Computer coin', 'Filecoin', 'TRON cryptocurrency', 'FTX Token', 'THETA Token', 'Ethereum Classic', \n",
    "           'Fantom cryptocurrency', 'Dai cryptocurrency', 'Crypto.com Coin', 'Hedera Hashgraph', \n",
    "           'Elrond cryptocurrency', 'Tezos', 'Decentraland coin', 'Monero', 'The Graph coin', 'EOSIO', 'PancakeSwap', 'Flow coin', 'Aave', 'THORChain', 'IOTA', 'Kusama coin',\n",
    "           'Maker cryptocurrency', 'Quant network', 'Harmony coin', 'NEO cryptocurrency', \n",
    "           'Bitcoin SV', 'The Sandbox coin', 'Helium coin', 'Waves coin', 'Chiliz', 'BitTorrent Token', 'Arweave', 'Stacks coin', 'Amp token', 'Enjin Coin', \n",
    "           'Compound token', 'Holo token', 'Celo cryptocurrency', 'Zcash', 'Dash cryptocurrency', 'OmiseGO', \n",
    "           'Theta Fuel', 'NEM coin', 'Curve DAO Token', 'Loopring', 'Qtum', 'SushiSwap', 'ICON cryptocurrency', 'Decred', 'Basic Attention Token', 'Creditcoin', \n",
    "           'Synthetix', 'Synthetix Network Token', 'Ravencoin', 'Zilliqa', \n",
    "           'yearn.finance', 'Kadena coin', 'TrueUSD', 'XinFin Network', 'ECOMI', 'BitcoinGold', 'Serum coin', 'Project Serum', '0x', 'Bancor', 'Ankr', \n",
    "           'Celsius cryptocurrency', 'Siacoin', 'Counos X', 'Horizen', 'IOST', 'Raydium cryptocurrency', \n",
    "           'Ontology coin', 'SKALE', 'SKALE Network', 'WAX cryptocurrency', 'DigiByte', 'Nano cryptocurrency']"
   ]
  },
  {
   "cell_type": "code",
   "execution_count": 125,
   "id": "4c18408c-89a2-49db-8311-c31c4f7895c3",
   "metadata": {},
   "outputs": [
    {
     "data": {
      "application/vnd.jupyter.widget-view+json": {
       "model_id": "bff5242047544a52b4cb2c4204bedeae",
       "version_major": 2,
       "version_minor": 0
      },
      "text/plain": [
       "0it [00:00, ?it/s]"
      ]
     },
     "metadata": {},
     "output_type": "display_data"
    }
   ],
   "source": [
    "maxTweets = 10\n",
    "tweets = []\n",
    "\n",
    "# for kw in []\n",
    "\n",
    "# Using TwitterSearchScraper to scrape data and append tweets to list\n",
    "for i, tweet in tqdm(enumerate(sntwitter.TwitterSearchScraper(f'{words[0]} since:2021-10-31 until:2021-11-01 -filter:retweets').get_items())):\n",
    "    if (tweet.replyCount + tweet.retweetCount + tweet.likeCount + tweet.quoteCount) >= 10:\n",
    "        tweets.append({\n",
    "            'id': tweet.id,\n",
    "            'date': tweet.date.strftime('%Y-%m-%d'),\n",
    "            'text': tweet.content,\n",
    "            'reply_count': tweet.replyCount,\n",
    "            'retweet_count': tweet.retweetCount,\n",
    "            'like_count': tweet.likeCount,\n",
    "            'quote_count': tweet.quoteCount,\n",
    "            'hashtags': tweet.hashtags,\n",
    "            'cashtags': tweet.cashtags\n",
    "        })\n",
    "#     if len(tweets) > maxTweets:\n",
    "#         break"
   ]
  },
  {
   "cell_type": "code",
   "execution_count": null,
   "id": "6ecf454e-f755-43b8-9e98-8aec30a5e9b4",
   "metadata": {},
   "outputs": [],
   "source": [
    "start_date = dt.date(start_year, start_mon, 1) \n",
    "stop_date = dt.date(stop_year, stop_mon, 1) # get_last_date_of_month(stop_year, stop_mon)\n",
    "\n",
    "current = start_date\n",
    "results = []\n",
    "\n",
    "while current <= stop_date:\n",
    "    gnews = GoogleNews(lang='en', start=current.strftime('%m/%d/%Y'), end=current.strftime('%m/%d/%Y'))\n",
    "    gnews.search(kw)\n",
    "\n",
    "    # title, media, datetime, desc, link\n",
    "#         for page in tqdm(range(1, 31)):\n",
    "#             page_results = gnews.page_at(page)\n",
    "\n",
    "#             if page_results == []:\n",
    "#                 break\n",
    "#             else:\n",
    "#                 results = results + page_results\n",
    "\n",
    "#             time.sleep(np.random.randint(7, 18))\n",
    "\n",
    "    results = results + gnews.results()\n",
    "    print(f\"{kw}:{current.strftime('%m/%d/%Y')}\")\n",
    "    current = current + dt.timedelta(days=1)\n",
    "    gnews.clear()"
   ]
  },
  {
   "cell_type": "code",
   "execution_count": 146,
   "id": "fd39914e-41c2-45a5-8873-410765a524ef",
   "metadata": {},
   "outputs": [
    {
     "data": {
      "text/plain": [
       "'2018-01-30'"
      ]
     },
     "execution_count": 146,
     "metadata": {},
     "output_type": "execute_result"
    }
   ],
   "source": [
    "(dt.date(2018, 1, 31) - dt.timedelta(days = 1)).strftime('%Y-%m-%d')"
   ]
  },
  {
   "cell_type": "code",
   "execution_count": null,
   "id": "b1c8b160-2f04-498a-b71e-8cbc8963d617",
   "metadata": {},
   "outputs": [],
   "source": []
  },
  {
   "cell_type": "code",
   "execution_count": null,
   "id": "310051af-a2f3-4c99-985a-c23e2cb3d140",
   "metadata": {},
   "outputs": [],
   "source": []
  },
  {
   "cell_type": "markdown",
   "id": "3a662102-9e39-4281-a515-80e4b1cbd599",
   "metadata": {
    "tags": []
   },
   "source": [
    "### Coin Features and Internal Characteristics and Wikipedia Page View \n",
    "https://wikipedia.readthedocs.io/en/latest/quickstart.html <br/>\n",
    "https://en.wikipedia.org/wiki/List_of_cryptocurrencies <br/>\n",
    "https://en.wikipedia.org/wiki/Stablecoin <br/>\n",
    "https://www.investopedia.com/tech/most-important-cryptocurrencies-other-than-bitcoin/ <br/>\n",
    "https://www.laptopmag.com/best-picks/best-cryptocurrency-to-buy-in-2021 <br/>\n",
    "https://levelup.gitconnected.com/the-7-types-of-cryptocurrencies-you-must-know-3b26b2ce0eb8 <br/>\n",
    "https://www.sofi.com/learn/content/understanding-the-different-types-of-cryptocurrency/ </br>\n",
    "\n",
    "coin characteristics, country of origination, utility, and etc."
   ]
  },
  {
   "cell_type": "code",
   "execution_count": 9,
   "id": "cfe61d3c-a41a-4607-b61b-91a82d2b1de2",
   "metadata": {},
   "outputs": [],
   "source": [
    "import wikipedia as wp\n",
    "\n",
    "from mwviews.api import PageviewsClient"
   ]
  },
  {
   "cell_type": "code",
   "execution_count": 25,
   "id": "298d33eb-3f83-4352-9e18-0f2357c32caf",
   "metadata": {},
   "outputs": [],
   "source": [
    "# coin features from coinmarketcap.com property and tags\n",
    "coin_features = pd.read_csv('datasets/coin_features.csv')\n",
    "coin_names = pd.read_csv('datasets/ticker_info.csv')[:100]['name'].to_list()"
   ]
  },
  {
   "cell_type": "code",
   "execution_count": 10,
   "id": "a42b6951-70bb-4769-8766-93a9397bf582",
   "metadata": {},
   "outputs": [],
   "source": [
    "# Sends a descriptive User-Agent header with every request\n",
    "p = PageviewsClient(user_agent=\"<patara.t@kaist.ac.kr> Cryptocurrency-related articles pageview\")\n",
    "\n",
    "#N/A: Loopring, DigiByte, IOST, WAX, SKALE Network, Horizon, raydium, Ontology, Ankr, Celsius, Serum, Siacoin, CounosX, XinFin Network, Kadena, yearn finance, Zilliqa, Synthetix Network Token, Ravencoin, CreditCoin, ICON, Decred, Sushi, Qtum, NEM, TFUEL, Omise GO, celo, HEX, Terra, Polygon (Matic Network), VeChain, Cosmos, Theta, Fantom, Elrond, The Graph, pancake swap, Flow, THOR, Kusama, Maker, Quant, Harmony, Bitcoin SV, Helium, Waves, Chiliz, Arweave, Amp, EnjinCoin, Compound, Holo\n",
    "article_names = ['Cryptocurrency', 'Cryptocurrency_exchange', 'Cryptocurrency_wallet', 'Bitcoin', 'Ethereum', 'Binance', 'Tether_(cryptocurrency)', 'Cardano_(blockchain_platform)', 'Solana_(blockchain_platform)', 'Ripple_(payment_protocol)', \n",
    "                'Polkadot_(cryptocurrency)', 'Shiba_Inu_(cryptocurrency)', 'Dogecoin', 'USD_Coin', 'Uniswap', 'Avalanche_(cryptocurrency)', 'Chainlink_(blockchain)', 'Litecoin', \n",
    "                'Algorand', 'Bitcoin_Cash', 'Stellar_(payment_network)', 'Axie_Infinity', 'Dfinity', 'Filecoin', 'Tron_(cryptocurrency)', 'FTX_(company)', 'Ethereum_Classic',\n",
    "                'Dai_(cryptocurrency)', 'Crypto.com', 'Hashgraph', 'Tezos', 'Decentraland', 'Monero', 'EOS.IO', 'IOTA_(technology)', 'NEO_(cryptocurrency)', 'The_Sandbox_(video_game)',\n",
    "                'Rainberry,_Inc.', 'Stacks_blockchain', 'Zcash', 'Dash_(cryptocurrency)', 'The_DAO_(organization)', 'Brave_(web_browser)', 'Stablecoin', 'Bitcoin_Gold', \n",
    "                '0x_(decentralized_exchange_infrastructure)', 'Bancor_(cryptocurrency)', 'Nano_(cryptocurrency)']\n",
    "\n",
    "article_views = p.article_views('en.wikipedia', article_names, granularity='daily', start='20180101', end='20211031')"
   ]
  },
  {
   "cell_type": "code",
   "execution_count": 12,
   "id": "74dac369-66f7-4dfc-9771-d0db4434f387",
   "metadata": {},
   "outputs": [],
   "source": [
    "views = []\n",
    "for key in list(article_views.keys()):\n",
    "    view = article_views[key]\n",
    "    view['Date'] = key.strftime('%Y-%m-%d')\n",
    "    views.append(view)"
   ]
  },
  {
   "cell_type": "code",
   "execution_count": 18,
   "id": "4a0ce828-b5ee-466f-ad6e-5e0b607b6551",
   "metadata": {},
   "outputs": [],
   "source": [
    "# pd.DataFrame(views).to_csv('datasets/wiki_pageviews.csv', index=False)"
   ]
  },
  {
   "cell_type": "markdown",
   "id": "6d710944-2be5-44c7-8462-f135e4f60d89",
   "metadata": {
    "tags": []
   },
   "source": [
    "### Google Trends and News\n",
    "https://github.com/GeneralMills/pytrends <br/>\n",
    "https://github.com/Iceloof/GoogleNews <br/>\n",
    "cryptocoinsnews.com"
   ]
  },
  {
   "cell_type": "code",
   "execution_count": 2,
   "id": "1b91f5de-6da5-4f06-bd12-12cb3c8f7a0e",
   "metadata": {},
   "outputs": [],
   "source": [
    "from pytrends.request import TrendReq\n",
    "from pytrends.dailydata import get_daily_data, get_last_date_of_month, convert_dates_to_timeframe"
   ]
  },
  {
   "cell_type": "code",
   "execution_count": 3,
   "id": "ee08e9ae-cd54-41fa-b99f-a05de555a97f",
   "metadata": {},
   "outputs": [],
   "source": [
    "keywords = ['Cryptocurrency', 'Cryptocurrency exchange', 'Cryptocurrency wallet', 'Bitcoin', 'Ethereum', 'Binance Coin', 'Tether', 'Cardano', 'Solana', 'XRP', 'Ripple', 'Polkadot', \n",
    "           'HEX cryptocurrency', 'SHIBA INU coin', 'Dogecoin', 'USDCoin', 'Terra Luna', 'Uniswap', 'Avalanche coin', 'Chainlink', 'Litecoin', 'Matic Network', 'Polygon cryptocurrency', \n",
    "           'Algorand', 'Bitcoin Cash', 'Stellar', 'VeChain', \n",
    "           'Axie Infinity coin', 'cosmos coin', 'Dfinity', 'Internet Computer coin', 'Filecoin', 'TRON cryptocurrency', 'FTX Token', 'THETA Token', 'Ethereum Classic', \n",
    "           'Fantom cryptocurrency', 'Dai cryptocurrency', 'Crypto.com Coin', 'Hedera Hashgraph', \n",
    "           'Elrond cryptocurrency', 'Tezos', 'Decentraland coin', 'Monero', 'The Graph coin', 'EOSIO', 'PancakeSwap', 'Flow coin', 'Aave', 'THORChain', 'IOTA', 'Kusama coin',\n",
    "           'Maker cryptocurrency', 'Quant network', 'Harmony coin', 'NEO cryptocurrency', \n",
    "           'Bitcoin SV', 'The Sandbox coin', 'Helium coin', 'Waves coin', 'Chiliz', 'BitTorrent Token', 'Arweave', 'Stacks coin', 'Amp token', 'Enjin Coin', \n",
    "           'Compound token', 'Holo token', 'Celo cryptocurrency', 'Zcash', 'Dash cryptocurrency', 'OmiseGO', \n",
    "           'Theta Fuel', 'NEM coin', 'Curve DAO Token', 'Loopring', 'Qtum', 'SushiSwap', 'ICON cryptocurrency', 'Decred', 'Basic Attention Token', 'Creditcoin', \n",
    "           'Synthetix', 'Synthetix Network Token', 'Ravencoin', 'Zilliqa', \n",
    "           'yearn.finance', 'Kadena coin', 'TrueUSD', 'XinFin Network', 'ECOMI', 'BitcoinGold', 'Serum coin', 'Project Serum', '0x', 'Bancor', 'Ankr', \n",
    "           'Celsius cryptocurrency', 'Siacoin', 'Counos X', 'Horizen', 'IOST', 'Raydium cryptocurrency', \n",
    "           'Ontology coin', 'SKALE', 'SKALE Network', 'WAX cryptocurrency', 'DigiByte', 'Nano cryptocurrency']"
   ]
  },
  {
   "cell_type": "code",
   "execution_count": null,
   "id": "e3230285-852b-480c-acb6-56675eb002f6",
   "metadata": {},
   "outputs": [],
   "source": [
    "for kw in tqdm(keywords):\n",
    "    df = get_daily_data(kw, start_year=2018, start_mon=1, stop_year=2021, stop_mon=10, geo='')\n",
    "    df.to_csv(f\"datasets/gtrends/{kw.replace(' ', '_')}.csv\")"
   ]
  },
  {
   "cell_type": "code",
   "execution_count": 4,
   "id": "e4d0f867-0085-4876-b24d-ed1c3fd7b51b",
   "metadata": {},
   "outputs": [],
   "source": [
    "import nltk\n",
    "import requests\n",
    "\n",
    "from GoogleNews import GoogleNews\n",
    "from newspaper import Article\n",
    "from newspaper import Config\n",
    " \n",
    "from gnews import GNews, utils"
   ]
  },
  {
   "cell_type": "code",
   "execution_count": 5,
   "id": "f77d6699-349d-4006-a22d-e37bda511a06",
   "metadata": {},
   "outputs": [
    {
     "name": "stderr",
     "output_type": "stream",
     "text": [
      "[nltk_data] Downloading package punkt to /home/patara/nltk_data...\n",
      "[nltk_data]   Package punkt is already up-to-date!\n"
     ]
    },
    {
     "data": {
      "text/plain": [
       "True"
      ]
     },
     "execution_count": 5,
     "metadata": {},
     "output_type": "execute_result"
    }
   ],
   "source": [
    "nltk.download('punkt')"
   ]
  },
  {
   "cell_type": "code",
   "execution_count": 37,
   "id": "c647d22c-1e0e-4f44-be47-9f857c10c79d",
   "metadata": {},
   "outputs": [],
   "source": [
    "# params = {\n",
    "#     'token': '2397b8faad1e2a92243f4e43803b17b3',\n",
    "#     'q': 'Cryptocurrency',\n",
    "#     'lang': 'en',\n",
    "#     'from': '2021-10-31T00:00:00Z',\n",
    "#     'to': '2021-10-31T23:59:59Z',\n",
    "#     'sortby': 'relevance'\n",
    "# }\n",
    "# res = requests.get('https://gnews.io/api/v4/search', params)"
   ]
  },
  {
   "cell_type": "code",
   "execution_count": 4,
   "id": "05079914-483f-45e9-a49b-1b9f80a5d047",
   "metadata": {},
   "outputs": [],
   "source": [
    "# df = {'Cryptocurrency': [], 'Cryptocurrency exchange': [], 'Cryptocurrency market': []}"
   ]
  },
  {
   "cell_type": "code",
   "execution_count": 19,
   "id": "bf2f59a2-27ac-4508-8f8a-19f8c8f3477a",
   "metadata": {
    "scrolled": true,
    "tags": []
   },
   "outputs": [],
   "source": [
    "cryptocurrency = pd.read_csv(f\"datasets/news/Cryptocurrency.csv\")\n",
    "cryptocurrency_exchange = pd.read_csv(f\"datasets/news/Cryptocurrency_exchange.csv\")\n",
    "cryptocurrency_market = pd.read_csv(f\"datasets/news/Cryptocurrency_market.csv\")"
   ]
  },
  {
   "cell_type": "code",
   "execution_count": null,
   "id": "9bbd7d78-6dfb-48a8-bd5b-deab4ae36465",
   "metadata": {},
   "outputs": [],
   "source": []
  },
  {
   "cell_type": "markdown",
   "id": "1c13ee56-4f3a-4988-bfa1-3c0a980be22a",
   "metadata": {
    "jp-MarkdownHeadingCollapsed": true,
    "tags": []
   },
   "source": [
    "### Global Economic Policay Uncertainty Index (GEPU) and Geopolitical Uncertainty (GPR)\n",
    "http://www.policyuncertainty.com <br/>\n",
    "https://www.policyuncertainty.com/global_monthly.html <br/>\n",
    "https://www.matteoiacoviello.com/gpr.htm <br/>\n",
    "\n",
    "The Caldara and Iacoviello GPR index reflects automated text-search results of the electronic archives of 10 newspapers: Chicago Tribune, the Daily Telegraph, Financial Times, The Globe and Mail, The Guardian, the Los Angeles Times, The New York Times, USA Today, The Wall Street Journal, and The Washington Post. Caldara and Iacoviello calculate the index by counting the number of articles related to adverse geopolitical events in each newspaper for each month (as a share of the total number of news articles).\n",
    "\n",
    "The search is organized in eight categories: War Threats (Category 1), Peace Threats (Category 2), Military Buildups (Category 3), Nuclear Threats (Category 4), Terror Threats (Category 5), Beginning of War (Category 6), Escalation of War (Category 7), Terror Acts (Category 8). Based on the search groups above, Caldara and Iacoviello also constructs two subindexes. The Geopolitical Threats (GPRT) includes words belonging to categories 1 to 5 above. The Geopolitical Acts (GPRA) index includes words belonging to categories 6 to 8."
   ]
  },
  {
   "cell_type": "code",
   "execution_count": 22,
   "id": "752584b6-a33b-4165-a3ac-71096e83bcf7",
   "metadata": {},
   "outputs": [],
   "source": [
    "gepu = pd.read_csv('datasets/Global_Policy_Uncertainty_Data.csv')\n",
    "gepu_country = pd.read_csv('datasets/GEPU_Country_Data.csv')"
   ]
  },
  {
   "cell_type": "code",
   "execution_count": 23,
   "id": "b50c4eff-c445-4ece-a050-fa90c5c74afd",
   "metadata": {},
   "outputs": [],
   "source": [
    "twu = pd.read_csv('datasets/Twitter_Economic_Uncertainty.csv')"
   ]
  },
  {
   "cell_type": "code",
   "execution_count": 24,
   "id": "d19c29da-6377-4613-b3ef-fbc0991e060f",
   "metadata": {},
   "outputs": [],
   "source": [
    "gpr_country = pd.read_csv('datasets/gpr_export.csv')\n",
    "gpr_daily = pd.read_csv('datasets/gpr_daily_recent.csv')"
   ]
  },
  {
   "cell_type": "code",
   "execution_count": null,
   "id": "fec3f549-5625-4771-bd79-fa810dae3362",
   "metadata": {},
   "outputs": [],
   "source": []
  }
 ],
 "metadata": {
  "kernelspec": {
   "display_name": "Python 3 (ipykernel)",
   "language": "python",
   "name": "python3"
  },
  "language_info": {
   "codemirror_mode": {
    "name": "ipython",
    "version": 3
   },
   "file_extension": ".py",
   "mimetype": "text/x-python",
   "name": "python",
   "nbconvert_exporter": "python",
   "pygments_lexer": "ipython3",
   "version": "3.9.6"
  }
 },
 "nbformat": 4,
 "nbformat_minor": 5
}
