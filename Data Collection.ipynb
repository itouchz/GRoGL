{
 "cells": [
  {
   "cell_type": "code",
   "execution_count": 1,
   "id": "963ed5e3-7edb-4a42-8f49-0e5e9b6dedc2",
   "metadata": {},
   "outputs": [],
   "source": [
    "import praw\n",
    "import yahoofinancials as yf\n",
    "\n",
    "import wikipedia as wp\n",
    "import mwviews as wpview\n",
    "import pandas as pd\n",
    "import numpy as np\n",
    "\n",
    "from pytrends.request import TrendReq\n",
    "from GoogleNews import GoogleNews\n",
    "from yahoofinancials import YahooFinancials"
   ]
  },
  {
   "cell_type": "code",
   "execution_count": 2,
   "id": "8057e29f-ed4f-4bf8-a57e-9c0cee410bf4",
   "metadata": {},
   "outputs": [],
   "source": [
    "# interval: 1m,5m,15m,30m,60m,1h,1d,1wk,1mo,\n",
    "# *Close price adjusted for splits. **Adjusted close price adjusted for splits and dividend and/or capital gain distributions."
   ]
  },
  {
   "cell_type": "code",
   "execution_count": 3,
   "id": "03f8df0d-ad69-4e47-968a-65fe3c682465",
   "metadata": {},
   "outputs": [],
   "source": [
    "with open(\"top_symbols.npy\", \"rb\") as f:\n",
    "    top_coins = np.load(f)"
   ]
  },
  {
   "cell_type": "markdown",
   "id": "743f491d-7c13-41b7-b6ab-72c6ff3bcbae",
   "metadata": {
    "tags": []
   },
   "source": [
    "### Daily Prices of Cryptocurrencies, Stocks, Commodities, and World Indices\n",
    "https://github.com/ranaroussi/yfinance <br/>\n",
    "https://github.com/JECSand/yahoofinancials"
   ]
  },
  {
   "cell_type": "code",
   "execution_count": 8,
   "id": "6df8b578-a423-45d3-874b-e8530c9f54fe",
   "metadata": {},
   "outputs": [],
   "source": [
    "yahoo_financials = YahooFinancials(top_coins)\n",
    "coin_data = yahoo_financials.get_historical_price_data(\"2018-01-01\", \"2021-11-03\", \"daily\")"
   ]
  },
  {
   "cell_type": "code",
   "execution_count": null,
   "id": "75fcac0e-ccc3-4deb-b737-bf5b81142cd1",
   "metadata": {},
   "outputs": [],
   "source": [
    "df = pd.DataFrame(coin_data[top_coins.tolist()]['prices'])\n",
    "df = df.drop('date', axis=1).set_index('formatted_date')\n",
    "df.head()"
   ]
  },
  {
   "cell_type": "code",
   "execution_count": null,
   "id": "2f2785ca-7207-47ea-bcb0-f4781940a5a7",
   "metadata": {},
   "outputs": [],
   "source": [
    "yahoo_financials.get_market_cap()"
   ]
  },
  {
   "cell_type": "markdown",
   "id": "feea20a5-4abd-40f4-8986-312c5fe64274",
   "metadata": {},
   "source": [
    "### Reddit Posts\n",
    "https://github.com/gabrielpreda/reddit_extract_content"
   ]
  },
  {
   "cell_type": "code",
   "execution_count": null,
   "id": "491aafa0-d5dd-4579-9a16-b43b90d56400",
   "metadata": {},
   "outputs": [],
   "source": []
  },
  {
   "cell_type": "markdown",
   "id": "4187d53f-d69b-4c6f-aa52-3eee07cf056a",
   "metadata": {
    "tags": []
   },
   "source": [
    "### Tweets\n",
    "https://github.com/Jefferson-Henrique/GetOldTweets-python <br/>\n",
    "https://www.kaggle.com/davidwallach/financial-tweets <br/>\n",
    "https://github.com/dwallach1/Stocker <br/>\n",
    "https://towardsdatascience.com/an-extensive-guide-to-collecting-tweets-from-twitter-api-v2-for-academic-research-using-python-3-518fcb71df2a"
   ]
  },
  {
   "cell_type": "code",
   "execution_count": null,
   "id": "63f5e3c0-3151-4c4d-a33f-ed717335b582",
   "metadata": {},
   "outputs": [],
   "source": []
  },
  {
   "cell_type": "markdown",
   "id": "3a662102-9e39-4281-a515-80e4b1cbd599",
   "metadata": {},
   "source": [
    "### Coin Features and Internal Characteristics and Wikipedia Page View \n",
    "https://wikipedia.readthedocs.io/en/latest/quickstart.html <br/>\n",
    "https://en.wikipedia.org/wiki/List_of_cryptocurrencies_by_market_capitalization <br/>\n",
    "https://en.wikipedia.org/wiki/List_of_cryptocurrencies <br/>\n",
    "https://en.wikipedia.org/wiki/Stablecoin <br/>\n",
    "https://www.investopedia.com/tech/most-important-cryptocurrencies-other-than-bitcoin/ <br/>\n",
    "https://www.laptopmag.com/best-picks/best-cryptocurrency-to-buy-in-2021 <br/>\n",
    "https://levelup.gitconnected.com/the-7-types-of-cryptocurrencies-you-must-know-3b26b2ce0eb8 <br/>\n",
    "https://www.sofi.com/learn/content/understanding-the-different-types-of-cryptocurrency/"
   ]
  },
  {
   "cell_type": "code",
   "execution_count": null,
   "id": "addd7491-d8ef-4836-bdbd-24ee8ed7069a",
   "metadata": {},
   "outputs": [],
   "source": []
  },
  {
   "cell_type": "markdown",
   "id": "6d710944-2be5-44c7-8462-f135e4f60d89",
   "metadata": {},
   "source": [
    "### Google Trends and News\n",
    "https://github.com/GeneralMills/pytrends <br/>\n",
    "https://github.com/Iceloof/GoogleNews"
   ]
  },
  {
   "cell_type": "code",
   "execution_count": null,
   "id": "cf7f9de9-54a3-449f-9bd8-3d2b3d7d2594",
   "metadata": {},
   "outputs": [],
   "source": []
  },
  {
   "cell_type": "markdown",
   "id": "1c13ee56-4f3a-4988-bfa1-3c0a980be22a",
   "metadata": {},
   "source": [
    "### Global Economic Policay Uncertainty Index (GEPU) and Geopolitical Uncertainty (GPR)\n",
    "http://www.policyuncertainty.com <br/>\n",
    "https://www.policyuncertainty.com/global_monthly.html <br/>\n",
    "https://www.matteoiacoviello.com/gpr.htm"
   ]
  },
  {
   "cell_type": "code",
   "execution_count": null,
   "id": "d19c29da-6377-4613-b3ef-fbc0991e060f",
   "metadata": {},
   "outputs": [],
   "source": []
  }
 ],
 "metadata": {
  "kernelspec": {
   "display_name": "Python 3 (ipykernel)",
   "language": "python",
   "name": "python3"
  },
  "language_info": {
   "codemirror_mode": {
    "name": "ipython",
    "version": 3
   },
   "file_extension": ".py",
   "mimetype": "text/x-python",
   "name": "python",
   "nbconvert_exporter": "python",
   "pygments_lexer": "ipython3",
   "version": "3.9.6"
  }
 },
 "nbformat": 4,
 "nbformat_minor": 5
}
